{
 "cells": [
  {
   "cell_type": "markdown",
   "id": "6a68ba90-6427-4cf2-b669-341f4ea9c45f",
   "metadata": {},
   "source": [
    "# Library Imports\n",
    "\n",
    "In order to pull data from the OpenDota API, we will be using Requests and JSON.\n",
    "To process and preview data, Numpys and Pandas will be used.\n",
    "The OS library will be used to save the processed file or files that are pulled so they can be included into Tableau"
   ]
  },
  {
   "cell_type": "code",
   "execution_count": 5,
   "id": "81cba89d-72d9-42e1-aef3-cf741185fe8c",
   "metadata": {},
   "outputs": [],
   "source": [
    "import requests as re\n",
    "import json\n",
    "import numpy as np\n",
    "import pandas as pd\n",
    "import os\n",
    "from apisecret import api_key #Likely not needed as 60 calls per minute as in the free no key tier"
   ]
  },
  {
   "cell_type": "markdown",
   "id": "3afa6eed-b5f8-4160-a2f2-5a90ceba323a",
   "metadata": {
    "tags": []
   },
   "source": [
    "# Proof of concept\n",
    "\n",
    "Ld2l season 13 is not running yet so I will pull data from a small amount of matches from the previous season. I will use Ld2l season 8 ticket, league ID 12094 to test the pipeline."
   ]
  },
  {
   "cell_type": "raw",
   "id": "ac5ea4bc-7076-4f1e-951e-2794e53e9833",
   "metadata": {},
   "source": [
    "SQL QUERY\n",
    "\n",
    "```SELECT\n",
    "        \n",
    "matches.match_id,\n",
    "matches.start_time,\n",
    "((player_matches.player_slot < 128) = matches.radiant_win) win,\n",
    "player_matches.hero_id,\n",
    "player_matches.account_id,\n",
    "leagues.name leaguename\n",
    "FROM matches\n",
    "JOIN match_patch using(match_id)\n",
    "JOIN leagues using(leagueid)\n",
    "JOIN player_matches using(match_id)\n",
    "JOIN heroes on heroes.id = player_matches.hero_id\n",
    "LEFT JOIN notable_players ON notable_players.account_id = player_matches.account_id\n",
    "LEFT JOIN teams using(team_id)\n",
    "WHERE TRUE\n",
    "AND matches.start_time >= extract(epoch from timestamp '2022-02-25T02:34:53.787Z')\n",
    "ORDER BY matches.match_id NULLS LAST\n",
    "LIMIT 10```"
   ]
  },
  {
   "cell_type": "code",
   "execution_count": 11,
   "id": "d035ae0e-368d-4f1d-984e-17da9dcf1c19",
   "metadata": {},
   "outputs": [
    {
     "name": "stdout",
     "output_type": "stream",
     "text": [
      "<Response [200]>\n"
     ]
    }
   ],
   "source": [
    "response = re.get(\"https://www.opendota.com/explorer\")\n",
    "print(response)"
   ]
  },
  {
   "cell_type": "code",
   "execution_count": 10,
   "id": "08546c1b-1bde-4616-bcc3-6045310932ec",
   "metadata": {},
   "outputs": [
    {
     "ename": "TypeError",
     "evalue": "'bytes' object is not callable",
     "output_type": "error",
     "traceback": [
      "\u001b[1;31m---------------------------------------------------------------------------\u001b[0m",
      "\u001b[1;31mTypeError\u001b[0m                                 Traceback (most recent call last)",
      "Input \u001b[1;32mIn [10]\u001b[0m, in \u001b[0;36m<cell line: 1>\u001b[1;34m()\u001b[0m\n\u001b[1;32m----> 1\u001b[0m \u001b[43mresponse\u001b[49m\u001b[38;5;241;43m.\u001b[39;49m\u001b[43mcontent\u001b[49m\u001b[43m(\u001b[49m\u001b[43m)\u001b[49m\n",
      "\u001b[1;31mTypeError\u001b[0m: 'bytes' object is not callable"
     ]
    }
   ],
   "source": [
    "response.content()"
   ]
  },
  {
   "cell_type": "code",
   "execution_count": null,
   "id": "decc01de-cfdc-40df-95c5-24898e15ae88",
   "metadata": {},
   "outputs": [],
   "source": []
  }
 ],
 "metadata": {
  "kernelspec": {
   "display_name": "Python 3 (ipykernel)",
   "language": "python",
   "name": "python3"
  },
  "language_info": {
   "codemirror_mode": {
    "name": "ipython",
    "version": 3
   },
   "file_extension": ".py",
   "mimetype": "text/x-python",
   "name": "python",
   "nbconvert_exporter": "python",
   "pygments_lexer": "ipython3",
   "version": "3.9.7"
  }
 },
 "nbformat": 4,
 "nbformat_minor": 5
}
